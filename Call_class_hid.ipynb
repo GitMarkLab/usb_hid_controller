{
 "cells": [
  {
   "cell_type": "code",
   "execution_count": 1,
   "id": "158ed0e9-40be-452a-98f8-37e435984572",
   "metadata": {},
   "outputs": [
    {
     "name": "stdout",
     "output_type": "stream",
     "text": [
      "[HID device (vID=0x046d, pID=0xc626, v=0x0404); 3Dconnexion; SpaceNavigator, Path: \\\\?\\hid#vid_046d&pid_c626#6&5b5c222&0&0000#{4d1e55b2-f16f-11cf-88cb-001111000030}, HID device (vID=0x045e, pID=0x028e, v=0x0000); Unknown manufacturer; Controller (XBOX 360 For Windows), Path: \\\\?\\hid#vid_045e&pid_028e&ig_00#7&280476d4&0&0000#{4d1e55b2-f16f-11cf-88cb-001111000030}]\n",
      "Close connection\n",
      "Verbindung zu  geschlossen.\n"
     ]
    }
   ],
   "source": [
    "# read out available devices \n",
    "# OS will be automatically detected (Linux is TODO)\n",
    "\n",
    "# Windows libusb Umgebungsvariablen  / Environment Variables\n",
    "# Environment Variables --> System variables --> Path\n",
    "# C:\\Users\\[USER]\\AppData\\Roaming\\Python\\Python312\\site-packages\\libusb\\_platform\\_windows\\x86\n",
    "# C:\\Users\\[USER]\\AppData\\Roaming\\Python\\Python312\\site-packages\\libusb\\_platform\\_windows\\x64\n",
    "\n",
    "# tested with USB game controller and 3Dconnexion SpaceNavigator in an virtual windows machine\n",
    "\n",
    "from class_hid import Controller\n",
    "import time\n",
    "from time import sleep\n",
    "\n",
    "\n",
    "controller = Controller() # Name (not nessesary),vid,pid)\n",
    "#controller.init('XBOX Controller',\"0x045e\",\"0x028e\") # Name (not nessesary),vid,pid)\n",
    "print(controller.get_devices())\n",
    "controller.close()"
   ]
  },
  {
   "cell_type": "code",
   "execution_count": null,
   "id": "1c306e31-6f26-4c28-8cc6-174251c73641",
   "metadata": {},
   "outputs": [],
   "source": [
    "# read raw value from hid controller \n",
    "# multiple controllers possible\n",
    "\n",
    "\n",
    "from class_hid import Controller\n",
    "import time\n",
    "from time import sleep\n",
    "\n",
    "# set information in initialization or method init\n",
    "controller = Controller()\n",
    "controller.init('XBOX Controller',\"0x045e\",\"0x028e\")\n",
    "\n",
    "controller2 = Controller('SpaceNavigator',\"0x046d\",\"0xc626\")\n",
    "\n",
    "print(\"Available HID\",controller.get_devices())\n",
    "\n",
    "\n",
    "controller.connect()\n",
    "controller2.connect()\n",
    "\n",
    "\n",
    "while not controller.data_available():\n",
    "    print(\"Warten auf Datenverfügbarkeit...\")\n",
    "    time.sleep(1)  # Warte 1 Sekunde, bevor du erneut prüfst\n",
    "\n",
    "while not controller2.data_available():\n",
    "    print(\"Warten auf Datenverfügbarkeit...\")\n",
    "    time.sleep(1)  # Warte 1 Sekunde, bevor du erneut prüfst\n",
    "\n",
    "\n",
    "\n",
    "while True:\n",
    "    data = controller.get_raw_data()\n",
    "    data2 = controller2.get_raw_data()\n",
    "    if(data[11] == 4):\n",
    "        break\n",
    "    print(data,data2)\n",
    "    sleep(1)\n",
    "    \n",
    "print(\"End\")\n",
    "controller.close()\n",
    "controller2.close()"
   ]
  }
 ],
 "metadata": {
  "kernelspec": {
   "display_name": "Python 3 (ipykernel)",
   "language": "python",
   "name": "python3"
  },
  "language_info": {
   "codemirror_mode": {
    "name": "ipython",
    "version": 3
   },
   "file_extension": ".py",
   "mimetype": "text/x-python",
   "name": "python",
   "nbconvert_exporter": "python",
   "pygments_lexer": "ipython3",
   "version": "3.12.4"
  }
 },
 "nbformat": 4,
 "nbformat_minor": 5
}
